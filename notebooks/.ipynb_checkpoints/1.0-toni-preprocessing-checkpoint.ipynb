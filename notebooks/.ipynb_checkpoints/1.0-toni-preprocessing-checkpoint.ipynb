{
 "cells": [
  {
   "cell_type": "code",
   "execution_count": 1,
   "metadata": {
    "collapsed": true
   },
   "outputs": [],
   "source": [
    "%matplotlib inline\n",
    "\n",
    "import pandas as pd\n",
    "import numpy as np\n",
    "import seaborn as sb\n",
    "import matplotlib.pyplot as plt\n",
    "\n",
    "from sklearn import metrics\n",
    "from sklearn.cluster import MiniBatchKMeans, KMeans\n",
    "from sklearn.decomposition import PCA\n",
    "from sklearn.preprocessing import scale\n",
    "from sklearn import cross_validation as cv\n",
    "from sklearn import svm\n",
    "from sklearn import ensemble\n",
    "from sklearn import linear_model"
   ]
  },
  {
   "cell_type": "code",
   "execution_count": 2,
   "metadata": {
    "collapsed": false
   },
   "outputs": [
    {
     "name": "stdout",
     "output_type": "stream",
     "text": [
      "(29118021, 6)\n"
     ]
    }
   ],
   "source": [
    "train = pd.read_csv('../data/raw/train.csv')\n",
    "\n",
    "print train.shape"
   ]
  },
  {
   "cell_type": "code",
   "execution_count": 3,
   "metadata": {
    "collapsed": false
   },
   "outputs": [
    {
     "name": "stdout",
     "output_type": "stream",
     "text": [
      "108390\n"
     ]
    }
   ],
   "source": [
    "uniq = train['place_id'].nunique()\n",
    "print uniq"
   ]
  },
  {
   "cell_type": "code",
   "execution_count": 4,
   "metadata": {
    "collapsed": false
   },
   "outputs": [
    {
     "name": "stdout",
     "output_type": "stream",
     "text": [
      "(29118021L, 5L)\n",
      "(29118021L,)\n"
     ]
    }
   ],
   "source": [
    "train_X = train.values[:,:-1]\n",
    "train_t = train.values[:,-1]\n",
    "\n",
    "print train_X.shape\n",
    "print train_t.shape"
   ]
  },
  {
   "cell_type": "markdown",
   "metadata": {},
   "source": [
    "## Analysis"
   ]
  },
  {
   "cell_type": "markdown",
   "metadata": {
    "collapsed": true
   },
   "source": [
    "## Notes\n",
    "\n",
    "### Essential questions\n",
    "\n",
    "* Did you specify the type of data analytic question (e.g. exploration, association causality) before touching the data?\n",
    "    * We are trying to order the places (i.e by their likelihood) based on the following measurements from the dataset: coordinates, accuracy (?), time (?) and place_id.\n",
    "\n",
    "* Did you define the metric for success before beginning?\n",
    "    * The metric is Mean Average Precision (What is this?)\n",
    "\n",
    "* Did you understand the context for the question and the scientific or business application?\n",
    "    *We are building a system that would rank a list of places given 'coords', 'accuracy' and 'time'. The purpose might be to enable for specific ads (i.e interesting places around the hotel) to be shown to the person (on FB?) depending on this list.\n",
    "\n",
    "* Did you record the experimental design?\n",
    "    * Given.\n",
    "\n",
    "* Did you consider whether the question could be answered with the available data?\n",
    "    * We need to further explore 'accuracy' and to check if we could identify different clusters of users - we don't know if the data was genereted by 1 person or many, so we need to check its structure.\n",
    "\n",
    "### Checking the data\n",
    "\n",
    "* Null values?\n",
    "    * No!\n",
    "\n",
    "* What do we know of the measurements?\n",
    "    * First column is ID and is useless.\n",
    "\n",
    "    * Second and Third are coords., they are in kilometers and are floating point. Min is (0,0) and max is (10,10);\n",
    "\n",
    "    * Fourth column is accuracy. Range is (1, 1033) and seems to follow a power law distribution. We assume that this is the accuracy of the location given by the GPS. This claim is supported by the fact that the data comes from a mobile device, which is able to give location but this information is sometimes not accurate (i.e in buildings), so we would like to know what is the accuracy of the reading. In order to convert this into real accuracy, we need to normalize the column and assign it values of (1 - current_val).\n",
    "\n",
    "    * The fifth column is time given as a timestamp. What patterns are there?\n",
    "\n",
    "    * Last column is the class_id, given as an integer"
   ]
  },
  {
   "cell_type": "markdown",
   "metadata": {},
   "source": [
    "## Pre-processing"
   ]
  },
  {
   "cell_type": "code",
   "execution_count": 5,
   "metadata": {
    "collapsed": false
   },
   "outputs": [
    {
     "name": "stdout",
     "output_type": "stream",
     "text": [
      "(29118021L, 5L)\n"
     ]
    }
   ],
   "source": [
    "train_X = (train_X - np.mean(train_X, axis=0))/np.std(train_X, axis=0)\n",
    "print train_X.shape"
   ]
  },
  {
   "cell_type": "markdown",
   "metadata": {},
   "source": [
    "## K-Means clustering"
   ]
  },
  {
   "cell_type": "code",
   "execution_count": 6,
   "metadata": {
    "collapsed": true
   },
   "outputs": [],
   "source": [
    "K = uniq\n",
    "clusters = range(0,K)\n",
    "batch_size = 1000\n",
    "n_init = 1000"
   ]
  },
  {
   "cell_type": "code",
   "execution_count": null,
   "metadata": {
    "collapsed": false
   },
   "outputs": [],
   "source": [
    "random_state = np.random.RandomState(0)\n",
    "\n",
    "mbk = MiniBatchKMeans(init='random', n_clusters=K, batch_size=batch_size,\n",
    "                      n_init=n_init, max_no_improvement=10, verbose=0)\n",
    "X_kmeans = mbk.fit_transform(X)\n",
    "print \"Done!\""
   ]
  },
  {
   "cell_type": "code",
   "execution_count": null,
   "metadata": {
    "collapsed": true
   },
   "outputs": [],
   "source": [
    "print X_kmeans.shape"
   ]
  },
  {
   "cell_type": "code",
   "execution_count": null,
   "metadata": {
    "collapsed": true
   },
   "outputs": [],
   "source": []
  }
 ],
 "metadata": {
  "kernelspec": {
   "display_name": "Python 2",
   "language": "python",
   "name": "python2"
  },
  "language_info": {
   "codemirror_mode": {
    "name": "ipython",
    "version": 2
   },
   "file_extension": ".py",
   "mimetype": "text/x-python",
   "name": "python",
   "nbconvert_exporter": "python",
   "pygments_lexer": "ipython2",
   "version": "2.7.11"
  }
 },
 "nbformat": 4,
 "nbformat_minor": 0
}
