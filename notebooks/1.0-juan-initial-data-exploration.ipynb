{
 "cells": [
  {
   "cell_type": "code",
   "execution_count": 1,
   "metadata": {
    "collapsed": false
   },
   "outputs": [],
   "source": [
    "%matplotlib inline\n",
    "\n",
    "import pandas as pd\n",
    "import numpy as np\n",
    "import seaborn as sb\n",
    "import matplotlib.pyplot as plt"
   ]
  },
  {
   "cell_type": "code",
   "execution_count": 2,
   "metadata": {
    "collapsed": false
   },
   "outputs": [
    {
     "name": "stdout",
     "output_type": "stream",
     "text": [
      "(29118021, 6)\n"
     ]
    }
   ],
   "source": [
    "train = pd.read_csv('../data/raw/train.csv')\n",
    "\n",
    "print train.shape"
   ]
  },
  {
   "cell_type": "code",
   "execution_count": 3,
   "metadata": {
    "collapsed": false
   },
   "outputs": [
    {
     "name": "stdout",
     "output_type": "stream",
     "text": [
      "<class 'pandas.core.frame.DataFrame'>\n",
      "RangeIndex: 29118021 entries, 0 to 29118020\n",
      "Data columns (total 6 columns):\n",
      "row_id      int64\n",
      "x           float64\n",
      "y           float64\n",
      "accuracy    int64\n",
      "time        int64\n",
      "place_id    int64\n",
      "dtypes: float64(2), int64(4)\n",
      "memory usage: 1.3 GB\n"
     ]
    }
   ],
   "source": [
    "train.info(memory_usage='deep')"
   ]
  },
  {
   "cell_type": "code",
   "execution_count": 4,
   "metadata": {
    "collapsed": false
   },
   "outputs": [],
   "source": [
    "train = train.sort_values(by=['time'], ascending=True)"
   ]
  },
  {
   "cell_type": "code",
   "execution_count": 5,
   "metadata": {
    "collapsed": false
   },
   "outputs": [],
   "source": [
    "#dataset['InstallDate'] = pd.to_datetime(dataset['time'], unit='ms')"
   ]
  },
  {
   "cell_type": "code",
   "execution_count": 6,
   "metadata": {
    "collapsed": false
   },
   "outputs": [
    {
     "data": {
      "text/html": [
       "<div>\n",
       "<table border=\"1\" class=\"dataframe\">\n",
       "  <thead>\n",
       "    <tr style=\"text-align: right;\">\n",
       "      <th></th>\n",
       "      <th>row_id</th>\n",
       "      <th>x</th>\n",
       "      <th>y</th>\n",
       "      <th>accuracy</th>\n",
       "      <th>time</th>\n",
       "      <th>place_id</th>\n",
       "    </tr>\n",
       "  </thead>\n",
       "  <tbody>\n",
       "    <tr>\n",
       "      <th>15280869</th>\n",
       "      <td>15280869</td>\n",
       "      <td>2.9374</td>\n",
       "      <td>1.0010</td>\n",
       "      <td>433</td>\n",
       "      <td>1</td>\n",
       "      <td>7186804346</td>\n",
       "    </tr>\n",
       "    <tr>\n",
       "      <th>23020268</th>\n",
       "      <td>23020268</td>\n",
       "      <td>5.3673</td>\n",
       "      <td>5.6998</td>\n",
       "      <td>25</td>\n",
       "      <td>1</td>\n",
       "      <td>7449653826</td>\n",
       "    </tr>\n",
       "    <tr>\n",
       "      <th>3977976</th>\n",
       "      <td>3977976</td>\n",
       "      <td>3.1148</td>\n",
       "      <td>3.6161</td>\n",
       "      <td>8</td>\n",
       "      <td>1</td>\n",
       "      <td>8090429732</td>\n",
       "    </tr>\n",
       "    <tr>\n",
       "      <th>27743788</th>\n",
       "      <td>27743788</td>\n",
       "      <td>3.7725</td>\n",
       "      <td>6.4504</td>\n",
       "      <td>65</td>\n",
       "      <td>2</td>\n",
       "      <td>4115006237</td>\n",
       "    </tr>\n",
       "    <tr>\n",
       "      <th>3836334</th>\n",
       "      <td>3836334</td>\n",
       "      <td>3.5102</td>\n",
       "      <td>3.6296</td>\n",
       "      <td>8</td>\n",
       "      <td>3</td>\n",
       "      <td>8090429732</td>\n",
       "    </tr>\n",
       "  </tbody>\n",
       "</table>\n",
       "</div>"
      ],
      "text/plain": [
       "            row_id       x       y  accuracy  time    place_id\n",
       "15280869  15280869  2.9374  1.0010       433     1  7186804346\n",
       "23020268  23020268  5.3673  5.6998        25     1  7449653826\n",
       "3977976    3977976  3.1148  3.6161         8     1  8090429732\n",
       "27743788  27743788  3.7725  6.4504        65     2  4115006237\n",
       "3836334    3836334  3.5102  3.6296         8     3  8090429732"
      ]
     },
     "execution_count": 6,
     "metadata": {},
     "output_type": "execute_result"
    }
   ],
   "source": [
    "train.head()"
   ]
  },
  {
   "cell_type": "code",
   "execution_count": 7,
   "metadata": {
    "collapsed": false
   },
   "outputs": [
    {
     "data": {
      "text/html": [
       "<div>\n",
       "<table border=\"1\" class=\"dataframe\">\n",
       "  <thead>\n",
       "    <tr style=\"text-align: right;\">\n",
       "      <th></th>\n",
       "      <th>row_id</th>\n",
       "      <th>x</th>\n",
       "      <th>y</th>\n",
       "      <th>accuracy</th>\n",
       "      <th>time</th>\n",
       "      <th>place_id</th>\n",
       "    </tr>\n",
       "  </thead>\n",
       "  <tbody>\n",
       "    <tr>\n",
       "      <th>726802</th>\n",
       "      <td>726802</td>\n",
       "      <td>0.1422</td>\n",
       "      <td>6.1894</td>\n",
       "      <td>63</td>\n",
       "      <td>786239</td>\n",
       "      <td>7811482171</td>\n",
       "    </tr>\n",
       "    <tr>\n",
       "      <th>22118299</th>\n",
       "      <td>22118299</td>\n",
       "      <td>5.6199</td>\n",
       "      <td>1.8609</td>\n",
       "      <td>165</td>\n",
       "      <td>786239</td>\n",
       "      <td>5164549189</td>\n",
       "    </tr>\n",
       "    <tr>\n",
       "      <th>13764839</th>\n",
       "      <td>13764839</td>\n",
       "      <td>5.2384</td>\n",
       "      <td>9.6714</td>\n",
       "      <td>85</td>\n",
       "      <td>786239</td>\n",
       "      <td>1291702704</td>\n",
       "    </tr>\n",
       "    <tr>\n",
       "      <th>19388897</th>\n",
       "      <td>19388897</td>\n",
       "      <td>5.4300</td>\n",
       "      <td>1.9423</td>\n",
       "      <td>35</td>\n",
       "      <td>786239</td>\n",
       "      <td>5796916425</td>\n",
       "    </tr>\n",
       "    <tr>\n",
       "      <th>11015770</th>\n",
       "      <td>11015770</td>\n",
       "      <td>5.6777</td>\n",
       "      <td>1.1298</td>\n",
       "      <td>60</td>\n",
       "      <td>786239</td>\n",
       "      <td>7588817182</td>\n",
       "    </tr>\n",
       "  </tbody>\n",
       "</table>\n",
       "</div>"
      ],
      "text/plain": [
       "            row_id       x       y  accuracy    time    place_id\n",
       "726802      726802  0.1422  6.1894        63  786239  7811482171\n",
       "22118299  22118299  5.6199  1.8609       165  786239  5164549189\n",
       "13764839  13764839  5.2384  9.6714        85  786239  1291702704\n",
       "19388897  19388897  5.4300  1.9423        35  786239  5796916425\n",
       "11015770  11015770  5.6777  1.1298        60  786239  7588817182"
      ]
     },
     "execution_count": 7,
     "metadata": {},
     "output_type": "execute_result"
    }
   ],
   "source": [
    "train.tail()"
   ]
  },
  {
   "cell_type": "code",
   "execution_count": 8,
   "metadata": {
    "collapsed": false
   },
   "outputs": [
    {
     "data": {
      "text/html": [
       "<div>\n",
       "<table border=\"1\" class=\"dataframe\">\n",
       "  <thead>\n",
       "    <tr style=\"text-align: right;\">\n",
       "      <th></th>\n",
       "      <th>row_id</th>\n",
       "      <th>x</th>\n",
       "      <th>y</th>\n",
       "      <th>accuracy</th>\n",
       "      <th>time</th>\n",
       "      <th>place_id</th>\n",
       "    </tr>\n",
       "  </thead>\n",
       "  <tbody>\n",
       "    <tr>\n",
       "      <th>count</th>\n",
       "      <td>2.911802e+07</td>\n",
       "      <td>2.911802e+07</td>\n",
       "      <td>2.911802e+07</td>\n",
       "      <td>2.911802e+07</td>\n",
       "      <td>2.911802e+07</td>\n",
       "      <td>2.911802e+07</td>\n",
       "    </tr>\n",
       "    <tr>\n",
       "      <th>mean</th>\n",
       "      <td>1.455901e+07</td>\n",
       "      <td>4.999770e+00</td>\n",
       "      <td>5.001814e+00</td>\n",
       "      <td>8.284912e+01</td>\n",
       "      <td>4.170104e+05</td>\n",
       "      <td>5.493787e+09</td>\n",
       "    </tr>\n",
       "    <tr>\n",
       "      <th>std</th>\n",
       "      <td>8.405649e+06</td>\n",
       "      <td>2.857601e+00</td>\n",
       "      <td>2.887505e+00</td>\n",
       "      <td>1.147518e+02</td>\n",
       "      <td>2.311761e+05</td>\n",
       "      <td>2.611088e+09</td>\n",
       "    </tr>\n",
       "    <tr>\n",
       "      <th>min</th>\n",
       "      <td>0.000000e+00</td>\n",
       "      <td>0.000000e+00</td>\n",
       "      <td>0.000000e+00</td>\n",
       "      <td>1.000000e+00</td>\n",
       "      <td>1.000000e+00</td>\n",
       "      <td>1.000016e+09</td>\n",
       "    </tr>\n",
       "    <tr>\n",
       "      <th>25%</th>\n",
       "      <td>7.279505e+06</td>\n",
       "      <td>2.534700e+00</td>\n",
       "      <td>2.496700e+00</td>\n",
       "      <td>2.700000e+01</td>\n",
       "      <td>2.030570e+05</td>\n",
       "      <td>3.222911e+09</td>\n",
       "    </tr>\n",
       "    <tr>\n",
       "      <th>50%</th>\n",
       "      <td>1.455901e+07</td>\n",
       "      <td>5.009100e+00</td>\n",
       "      <td>4.988300e+00</td>\n",
       "      <td>6.200000e+01</td>\n",
       "      <td>4.339220e+05</td>\n",
       "      <td>5.518573e+09</td>\n",
       "    </tr>\n",
       "    <tr>\n",
       "      <th>75%</th>\n",
       "      <td>2.183852e+07</td>\n",
       "      <td>7.461400e+00</td>\n",
       "      <td>7.510300e+00</td>\n",
       "      <td>7.500000e+01</td>\n",
       "      <td>6.204910e+05</td>\n",
       "      <td>7.764307e+09</td>\n",
       "    </tr>\n",
       "    <tr>\n",
       "      <th>max</th>\n",
       "      <td>2.911802e+07</td>\n",
       "      <td>1.000000e+01</td>\n",
       "      <td>1.000000e+01</td>\n",
       "      <td>1.033000e+03</td>\n",
       "      <td>7.862390e+05</td>\n",
       "      <td>9.999932e+09</td>\n",
       "    </tr>\n",
       "  </tbody>\n",
       "</table>\n",
       "</div>"
      ],
      "text/plain": [
       "             row_id             x             y      accuracy          time  \\\n",
       "count  2.911802e+07  2.911802e+07  2.911802e+07  2.911802e+07  2.911802e+07   \n",
       "mean   1.455901e+07  4.999770e+00  5.001814e+00  8.284912e+01  4.170104e+05   \n",
       "std    8.405649e+06  2.857601e+00  2.887505e+00  1.147518e+02  2.311761e+05   \n",
       "min    0.000000e+00  0.000000e+00  0.000000e+00  1.000000e+00  1.000000e+00   \n",
       "25%    7.279505e+06  2.534700e+00  2.496700e+00  2.700000e+01  2.030570e+05   \n",
       "50%    1.455901e+07  5.009100e+00  4.988300e+00  6.200000e+01  4.339220e+05   \n",
       "75%    2.183852e+07  7.461400e+00  7.510300e+00  7.500000e+01  6.204910e+05   \n",
       "max    2.911802e+07  1.000000e+01  1.000000e+01  1.033000e+03  7.862390e+05   \n",
       "\n",
       "           place_id  \n",
       "count  2.911802e+07  \n",
       "mean   5.493787e+09  \n",
       "std    2.611088e+09  \n",
       "min    1.000016e+09  \n",
       "25%    3.222911e+09  \n",
       "50%    5.518573e+09  \n",
       "75%    7.764307e+09  \n",
       "max    9.999932e+09  "
      ]
     },
     "execution_count": 8,
     "metadata": {},
     "output_type": "execute_result"
    }
   ],
   "source": [
    "train.describe()"
   ]
  },
  {
   "cell_type": "code",
   "execution_count": null,
   "metadata": {
    "collapsed": false
   },
   "outputs": [],
   "source": [
    "sb.distplot(train['accuracy'])\n",
    "sb.distplot(train['x'])\n",
    "sb.distplot(train['y'])\n",
    "sb.distplot(train['accuracy']);\n",
    "sb.distplot(train['time']);\n",
    "sb.distplot(train['place_id']);"
   ]
  },
  {
   "cell_type": "code",
   "execution_count": null,
   "metadata": {
    "collapsed": false
   },
   "outputs": [],
   "source": [
    "sb.jointplot(x=\"x\", y=\"y\", data=train, kind=\"kde\")"
   ]
  },
  {
   "cell_type": "code",
   "execution_count": null,
   "metadata": {
    "collapsed": true
   },
   "outputs": [],
   "source": []
  }
 ],
 "metadata": {
  "kernelspec": {
   "display_name": "Python 2",
   "language": "python",
   "name": "python2"
  },
  "language_info": {
   "codemirror_mode": {
    "name": "ipython",
    "version": 2
   },
   "file_extension": ".py",
   "mimetype": "text/x-python",
   "name": "python",
   "nbconvert_exporter": "python",
   "pygments_lexer": "ipython2",
   "version": "2.7.11"
  }
 },
 "nbformat": 4,
 "nbformat_minor": 0
}
